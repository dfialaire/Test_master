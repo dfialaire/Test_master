{
 "cells": [
  {
   "cell_type": "code",
   "execution_count": 1,
   "id": "piano-rapid",
   "metadata": {},
   "outputs": [],
   "source": [
    "# %%html\n",
    "# <script defer src=\"https://use.fontawesome.com/releases/v5.0.8/js/all.js\" integrity=\"sha384-SlE991lGASHoBfWbelyBPLsUlwY1GwNDJo3jSJO04KZ33K2bwfV9YBauFfnzvynJ\" crossorigin=\"anonymous\"></script>\n",
    "# <script disableClusteringAtZoom: 11 to L.markerClusterGroup({})></script>"
   ]
  },
  {
   "cell_type": "code",
   "execution_count": 2,
   "id": "stuck-emergency",
   "metadata": {},
   "outputs": [],
   "source": [
    "from ipywidgets import *\n",
    "from IPython.display import IFrame, YouTubeVideo\n",
    "from IPython.core.display import display\n",
    "import subprocess, sys\n",
    "import webbrowser"
   ]
  },
  {
   "cell_type": "code",
   "execution_count": 3,
   "id": "historical-humanity",
   "metadata": {},
   "outputs": [],
   "source": [
    "file = open(\"titre3.png\", \"rb\")\n",
    "image = file.read()\n",
    "im_titre = widgets.Image(\n",
    "    value=image,\n",
    "    format='png',\n",
    "    width=400,\n",
    "    height=50,\n",
    ")\n",
    "# im_titre\n",
    "# Box_im_titre=Box([im_titre])\n",
    "# Box_im_titre.layout.border = '1px solid black'\n",
    "# Box_im_titre"
   ]
  },
  {
   "cell_type": "code",
   "execution_count": 4,
   "id": "characteristic-killer",
   "metadata": {},
   "outputs": [],
   "source": [
    "couleur = 'orange'"
   ]
  },
  {
   "cell_type": "code",
   "execution_count": 5,
   "id": "talented-intellectual",
   "metadata": {},
   "outputs": [],
   "source": [
    "icone = \"industry\""
   ]
  },
  {
   "cell_type": "code",
   "execution_count": 6,
   "id": "099e7be0",
   "metadata": {},
   "outputs": [
    {
     "data": {
      "application/vnd.jupyter.widget-view+json": {
       "model_id": "9577beadf2824f4587edb76ab1e0bf6a",
       "version_major": 2,
       "version_minor": 0
      },
      "text/plain": [
       "Output(layout=Layout(border='1px solid black'))"
      ]
     },
     "metadata": {},
     "output_type": "display_data"
    }
   ],
   "source": [
    "def stop_video(_):\n",
    "    out.layout.display = \"none\"\n",
    "    Mode_w.value=\"---\"\n",
    "btn_exit_video = Button(description=\"Enlever la vidéo\",tooltip=\"Cliquer pour enlever la vidéo\",button_style='primary')\n",
    "btn_exit_video.on_click(stop_video)\n",
    "############\n",
    "vid=YouTubeVideo( 'xYNqP7LTNXM')     #EKo7lR1lvSY')#'eWzY2nGfkXk') https://youtu.be/xYNqP7LTNXM\n",
    "# https://youtu.be/EKo7lR1lvSY\n",
    "# Box_Vid=HBox([vid,btn_exit_video])\n",
    "out = widgets.Output(layout={'border': '1px solid black'})\n",
    "display(out)\n",
    "\n",
    "with out:\n",
    "    display(vid)\n",
    "    display(btn_exit_video)\n",
    "out.layout.display = \"none\"  #.layout.visibility = 'hidden'\n",
    "\n",
    "#####"
   ]
  },
  {
   "cell_type": "code",
   "execution_count": 7,
   "id": "9ebca142",
   "metadata": {},
   "outputs": [
    {
     "data": {
      "application/vnd.jupyter.widget-view+json": {
       "model_id": "5367019706ea4a6795911203608b4792",
       "version_major": 2,
       "version_minor": 0
      },
      "text/plain": [
       "HBox(children=(Image(value=b'\\x89PNG\\r\\n\\x1a\\n\\x00\\x00\\x00\\rIHDR\\x00\\x00\\x02`\\x00\\x00\\x00\\x95\\x08\\x02\\x00\\x00\\…"
      ]
     },
     "metadata": {},
     "output_type": "display_data"
    }
   ],
   "source": [
    "def Vid_fonc(_):\n",
    "    out.layout.display = \"block\"\n",
    "#####################\n",
    "Vid_w = widgets.ToggleButton(\n",
    "    value=False,\n",
    "    description=' Démo : icônes',\n",
    "    disabled=False,\n",
    "    button_style='success', # 'success', 'info', 'warning', 'danger' or ''\n",
    "    tooltip=\"Cliquer pour voir la vidéo\",\n",
    "    icon='video' # (FontAwesome names without the `fa-` prefix)\n",
    ")\n",
    "Vid_w.observe(Vid_fonc,names='value')\n",
    "#####################\n",
    "Box_im_titre=HBox([im_titre,Vid_w])\n",
    "Box_im_titre.layout.border = '1px solid black'\n",
    "Box_im_titre\n",
    "# display(Vid_w)"
   ]
  },
  {
   "cell_type": "code",
   "execution_count": 8,
   "id": "standing-kernel",
   "metadata": {},
   "outputs": [],
   "source": [
    "def coul_fonc(change):\n",
    "    couleur=change['new']\n",
    "    icone=question.value\n",
    "    ################\"\"\n",
    "    latitude=  49.245 #062 \n",
    "    longitude= 4.0271 \n",
    "    Coord = [latitude, longitude]\n",
    "    #############################################################\n",
    "    infos=\"<u>icone testée :</u> <b>\"+str(icone) #+\"</b> : <br />\"+str(li[0])+\" : \"+str(li[1])+\". <br />\"+str(li[3])+\". <br />\"+str(li[40])+\", \"+str(li[41])+\" \"+str(li[42])+\"<br/> --> Tel : \"+str(li[43])+\"<br/> --> Mail : \"+str(li[51])+\"<br/> --> <a target='_blank' rel='noopener noreferrer' href='\"+str(li[44])+\"'>Lien </a>\"\n",
    "    ## icon de base\n",
    "    icon = AwesomeIcon(name=icone, marker_color=couleur, icon_color='black', icon_size=[40, 40])\n",
    "    mark = Marker(location=Coord, draggable=False, icon=icon) #, name=li[0]) # markerColor: 'green' # marker_color\n",
    "    ##########################################\n",
    "    message2 = HTML()\n",
    "    message2.value = infos\n",
    "    # Popup with a given location on the map:\n",
    "    popup = Popup(\n",
    "        location=Coord,\n",
    "        close_button=False,\n",
    "        auto_close=False,\n",
    "        close_on_escape_key=False\n",
    "    ) #\n",
    "    mark.popup = message2\n",
    "    m.add_layer(mark)\n",
    "    ############################\n",
    "    return couleur"
   ]
  },
  {
   "cell_type": "code",
   "execution_count": 9,
   "id": "freelance-vatican",
   "metadata": {},
   "outputs": [],
   "source": [
    "coul = Dropdown(\n",
    "    options=['orange', 'beige','blue','lightblue', 'white','red','lightred','darkred','green','lightgreen','purple','pink','gray','lightgray',],\n",
    "    value=couleur,\n",
    "    disabled=False,\n",
    ")\n",
    "coul.observe(coul_fonc,names='value')\n",
    "# display(coul)"
   ]
  },
  {
   "cell_type": "code",
   "execution_count": 10,
   "id": "negative-summit",
   "metadata": {},
   "outputs": [
    {
     "data": {
      "application/vnd.jupyter.widget-view+json": {
       "model_id": "4cfe7b49cb854f2690270886bf4ad9c3",
       "version_major": 2,
       "version_minor": 0
      },
      "text/plain": [
       "HBox(children=(HTML(value=\"<style>p{word-wrap: break-word}</style> <p>1) Ouvrez le site 'Font Awesome Icons', …"
      ]
     },
     "metadata": {},
     "output_type": "display_data"
    }
   ],
   "source": [
    "yep=widgets.HTML(\n",
    "    value=\"<a href='https://fontawesome.com/v5.15/icons?d=gallery&p=2&m=free' target='_blank'><i class='fas fa-share-square' aria-hidden='true' color='#33CC66'></i></a>\")\n",
    "\n",
    "Tex3=\"1) Ouvrez le site 'Font Awesome Icons', et choisissez une icone --> \"\n",
    "Texto3 = widgets.HTML(value= '<style>p{word-wrap: break-word}</style> <p>'+ Tex3 +' </p>')\n",
    "Btn_yep = HBox([Texto3,yep])\n",
    "\n",
    "display(Btn_yep)# 33CC66 # 66FF99"
   ]
  },
  {
   "cell_type": "code",
   "execution_count": 11,
   "id": "enclosed-swaziland",
   "metadata": {},
   "outputs": [],
   "source": [
    "def question_fonc(_):\n",
    "    global couleur\n",
    "    icone = question.value\n",
    "    couleur=coul.value\n",
    "    print(\"icone = \",icone)\n",
    "#     m.remove(name='testicone')\n",
    "    ################\"\"\n",
    "    latitude=  49.245 #062 \n",
    "    longitude= 4.0271 \n",
    "    Coord = [latitude, longitude]\n",
    "    #############################################################\n",
    "    infos=\"<u>icone testée :</u> <b>\"+str(icone) #+\"</b> : <br />\"+str(li[0])+\" : \"+str(li[1])+\". <br />\"+str(li[3])+\". <br />\"+str(li[40])+\", \"+str(li[41])+\" \"+str(li[42])+\"<br/> --> Tel : \"+str(li[43])+\"<br/> --> Mail : \"+str(li[51])+\"<br/> --> <a target='_blank' rel='noopener noreferrer' href='\"+str(li[44])+\"'>Lien </a>\"\n",
    "    ## icon de base\n",
    "    icon = AwesomeIcon(name=icone, marker_color=couleur, icon_color='black', icon_size=[40, 40])\n",
    "    mark = Marker(location=Coord, draggable=False, icon=icon, name=\"testicone\") #, name=li[0]) # markerColor: 'green' # marker_color\n",
    "    ##########################################\n",
    "    message2 = HTML()\n",
    "    message2.value = infos\n",
    "    # Popup with a given location on the map:\n",
    "    popup = Popup(\n",
    "        location=Coord,\n",
    "        close_button=False,\n",
    "        auto_close=False,\n",
    "        close_on_escape_key=False\n",
    "    ) #\n",
    "    mark.popup = message2\n",
    "    m.add_layer(mark)\n",
    "    ############################\n",
    "    return icone"
   ]
  },
  {
   "cell_type": "code",
   "execution_count": 12,
   "id": "cathedral-oxford",
   "metadata": {},
   "outputs": [
    {
     "data": {
      "application/vnd.jupyter.widget-view+json": {
       "model_id": "b7e608db91644844ab545b2edcb8eabd",
       "version_major": 2,
       "version_minor": 0
      },
      "text/plain": [
       "HBox(children=(HBox(children=(HTML(value=\"<style>p{word-wrap: break-word}</style> <p>2) Collez dans ce cadre l…"
      ]
     },
     "metadata": {},
     "output_type": "display_data"
    },
    {
     "data": {
      "application/vnd.jupyter.widget-view+json": {
       "model_id": "de614e99b65948708ff429a210314bd5",
       "version_major": 2,
       "version_minor": 0
      },
      "text/plain": [
       "Map(center=[49.25112, 4.035], controls=(ZoomControl(options=['position', 'zoom_in_text', 'zoom_in_title', 'zoo…"
      ]
     },
     "metadata": {},
     "output_type": "display_data"
    },
    {
     "name": "stdout",
     "output_type": "stream",
     "text": [
      "icone =  pills\n"
     ]
    }
   ],
   "source": [
    "from ipyleaflet import (\n",
    "    Map, basemaps, basemap_to_tiles,\n",
    "    Circle, Marker, Rectangle, LayerGroup, LayersControl,\n",
    "    AwesomeIcon, Popup, ScaleControl, FullScreenControl,\n",
    "    SearchControl\n",
    ")\n",
    "from ipywidgets import HTML\n",
    "###################################\n",
    "\n",
    "###############################################\n",
    "cent = [49.25112, 4.035] #4.0271]\n",
    "zoom = 18\n",
    "m = Map(center=cent, zoom=zoom)\n",
    "# m.add_control(FullScreenControl())\n",
    "# marker = Marker(icon=AwesomeIcon(name=\"check\", marker_color='green', icon_color='darkgreen'))\n",
    "\n",
    "# m.add_control(SearchControl(\n",
    "#   position=\"topleft\",\n",
    "#   url='https://nominatim.openstreetmap.org/search?format=json&q={s}',\n",
    "#   zoom=15,\n",
    "#   marker=marker\n",
    "# ))\n",
    "\n",
    "m.interact(zoom=(5,13,1))\n",
    "###############################################################\n",
    "\n",
    "#############################################################\n",
    "list_icon = ['industry','fa-graduation-cap','flask',  'heartbeat', 'cut','random','hourglass-start','link','leaf','pills','eye','coffee']\n",
    "len_list_icon = len(list_icon)\n",
    "for a in range(len_list_icon):\n",
    "    icon = list_icon[a]\n",
    "#     cent = [49.25112, 4.0271]\n",
    "    latitude=  49.25112 \n",
    "    longitude= 4.0271 + (0.005*a)\n",
    "    Coord = [latitude, longitude]\n",
    "#############################################################\n",
    "    infos=\"<u>icone :</u> <b>\"+str(list_icon[a]) #+\"</b> : <br />\"+str(li[0])+\" : \"+str(li[1])+\". <br />\"+str(li[3])+\". <br />\"+str(li[40])+\", \"+str(li[41])+\" \"+str(li[42])+\"<br/> --> Tel : \"+str(li[43])+\"<br/> --> Mail : \"+str(li[51])+\"<br/> --> <a target='_blank' rel='noopener noreferrer' href='\"+str(li[44])+\"'>Lien </a>\"\n",
    "    ## icon de base\n",
    "    icon = AwesomeIcon(name=list_icon[a], marker_color='lightblue', icon_color='black', icon_size=[40, 40])\n",
    "    mark = Marker(location=Coord, draggable=False, icon=icon) #, name=li[0]) # markerColor: 'green' # marker_color\n",
    "    ##########################################\n",
    "    message2 = HTML()\n",
    "    message2.value = infos\n",
    "    # Popup with a given location on the map:\n",
    "    popup = Popup(\n",
    "        location=Coord,\n",
    "        close_button=False,\n",
    "        auto_close=False,\n",
    "        close_on_escape_key=False\n",
    "    ) #\n",
    "    mark.popup = message2\n",
    "    m.add_layer(mark)\n",
    "\n",
    "# m.add_control(ScaleControl(position='bottomleft'))\n",
    "# control = LayersControl(position='topleft')\n",
    "# m.add_control(control)\n",
    "#########################################################################################\n",
    "## Test icones :\n",
    "###################\n",
    "question = Text(\n",
    "    value=\"industry\",\n",
    "    placeholder='Collez ici',\n",
    "    disabled=False\n",
    ")\n",
    "# question.observe(question_fonc,names='value')\n",
    "# display(question)\n",
    "#######################################\n",
    "Tex3=\"2) Collez dans ce cadre le nom de l'icone à tester,\"+\" <br />\"+\" et 3) Appluyez sur Play pour tester si l'icone fonctionne : \"\n",
    "Texto3 = widgets.HTML(value= '<style>p{word-wrap: break-word}</style> <p>'+ Tex3 +' </p>')\n",
    "Btn_question = HBox([Texto3,question])\n",
    "##################################\n",
    "#######################################\n",
    "Tex5=\"..4) Vous pouvez aussi choisir une couleur : \"\n",
    "Texto5 = widgets.HTML(value= '<style>p{word-wrap: break-word}</style> <p>'+ Tex5 +' </p>')\n",
    "Btn_coul = HBox([Texto5,coul])\n",
    "\n",
    "##################################\n",
    "# class='fa fa-play' aria-hidden='true' color='#33CC66'\n",
    "btn_choix = Button(icon=\"play\",button_style='info') # cogs  # angle-left # file-pdf-o # spinner\n",
    "btn_choix.layout.width=\"30px\"\n",
    "btn_choix.on_click(question_fonc)\n",
    "# display(btn_icone)\n",
    "# Valid=HBox([Texto4,btn_choix])\n",
    "################################################################################\n",
    "\n",
    "######################################################################\n",
    "Interro_ico = HBox([Btn_question,btn_choix,Btn_coul ]) # btn_choix])\n",
    "display(Interro_ico)\n",
    "######################################################################\n",
    "latitude=  49.245 #062 \n",
    "longitude= 4.0271 \n",
    "Coord = [latitude, longitude]\n",
    "#############################################################\n",
    "infos=\"<u>icone testée :</u> <b>\"+str(icone) #+\"</b> : <br />\"+str(li[0])+\" : \"+str(li[1])+\". <br />\"+str(li[3])+\". <br />\"+str(li[40])+\", \"+str(li[41])+\" \"+str(li[42])+\"<br/> --> Tel : \"+str(li[43])+\"<br/> --> Mail : \"+str(li[51])+\"<br/> --> <a target='_blank' rel='noopener noreferrer' href='\"+str(li[44])+\"'>Lien </a>\"\n",
    "## icon de base\n",
    "icon = AwesomeIcon(name='industry', marker_color='orange', icon_color='black', icon_size=[40, 40])\n",
    "mark = Marker(location=Coord, draggable=False, icon=icon, name=\"testicone\") #, name=li[0]) # markerColor: 'green' # marker_color\n",
    "##########################################\n",
    "message2 = HTML()\n",
    "message2.value = infos\n",
    "# Popup with a given location on the map:\n",
    "popup = Popup(\n",
    "    location=Coord,\n",
    "    close_button=False,\n",
    "    auto_close=False,\n",
    "    close_on_escape_key=False\n",
    ") #\n",
    "mark.popup = message2\n",
    "m.add_layer(mark)\n",
    "################################################################################\n",
    "\n",
    "m"
   ]
  },
  {
   "cell_type": "code",
   "execution_count": null,
   "id": "6d5d5841",
   "metadata": {},
   "outputs": [],
   "source": []
  }
 ],
 "metadata": {
  "kernelspec": {
   "display_name": "Python 3",
   "language": "python",
   "name": "python3"
  },
  "language_info": {
   "codemirror_mode": {
    "name": "ipython",
    "version": 3
   },
   "file_extension": ".py",
   "mimetype": "text/x-python",
   "name": "python",
   "nbconvert_exporter": "python",
   "pygments_lexer": "ipython3",
   "version": "3.8.8"
  }
 },
 "nbformat": 4,
 "nbformat_minor": 5
}
